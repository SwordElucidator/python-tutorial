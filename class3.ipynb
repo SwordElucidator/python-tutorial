{
 "cells": [
  {
   "cell_type": "code",
   "execution_count": 23,
   "metadata": {},
   "outputs": [
    {
     "data": {
      "text/plain": [
       "[2, 2, 2, 5, 5]"
      ]
     },
     "execution_count": 23,
     "metadata": {},
     "output_type": "execute_result"
    }
   ],
   "source": [
    "# 函数效率优化\n",
    "\n",
    "\n",
    "# 分解质因数\n",
    "def factorize(num):\n",
    "    factor = []\n",
    "    while num > 1:  # 只要num大于1\n",
    "        for i in range(2, num + 1):  # 对于2到num的所有数\n",
    "            if num % i == 0:  # 如果num除以i余0\n",
    "                factor.append(i)  # 把这个数添加上\n",
    "                num = int(num / i)  # 原本的数字除以i\n",
    "                break  # 中断for loop，并对num / i接着计算\n",
    "    return factor\n",
    "\n",
    "\n",
    "factorize(200)"
   ]
  },
  {
   "cell_type": "code",
   "execution_count": 90,
   "metadata": {},
   "outputs": [
    {
     "data": {
      "text/plain": [
       "[2, 2, 2, 5, 5]"
      ]
     },
     "execution_count": 90,
     "metadata": {},
     "output_type": "execute_result"
    }
   ],
   "source": [
    "# 一个更“简洁”的写法可以运用iteration\n",
    "\n",
    "def factorize_iteration(num):\n",
    "    if num == 1:\n",
    "        return []\n",
    "    for i in range(2, num + 1):\n",
    "        if num % i == 0:\n",
    "            return [i] + factorize_iteration(int(num / i))\n",
    "\n",
    "\n",
    "factorize_iteration(200)\n"
   ]
  },
  {
   "cell_type": "code",
   "execution_count": 91,
   "metadata": {},
   "outputs": [
    {
     "name": "stdout",
     "output_type": "stream",
     "text": [
      "factorize耗时0.189秒\n",
      "factorize_iteration耗时 0.183秒\n"
     ]
    }
   ],
   "source": [
    "# 我们来看一下效率\n",
    "\n",
    "import time\n",
    "start = time.time()\n",
    "factorize(4435356321)\n",
    "end1 = time.time()\n",
    "factorize_iteration(4435356321)\n",
    "end2 = time.time()\n",
    "\n",
    "print(\"factorize耗时%.3f秒\" % (end1 - start))\n",
    "print(\"factorize_iteration耗时 %.3f秒\" % (end2 - end1))\n",
    "\n",
    "# 看看结果，好像他们差不多，对吗？"
   ]
  },
  {
   "cell_type": "code",
   "execution_count": 94,
   "metadata": {},
   "outputs": [
    {
     "data": {
      "text/plain": [
       "[2, 2, 2, 5, 5]"
      ]
     },
     "execution_count": 94,
     "metadata": {},
     "output_type": "execute_result"
    }
   ],
   "source": [
    "# 到底哪里可以优化？我们拿刚刚相对干净一些的iteration写法来看\n",
    "\n",
    "def factorize_iteration_improved(num, start_from=2):\n",
    "    if num == 1:\n",
    "        return []\n",
    "    if num < start_from:\n",
    "        retrun [num]\n",
    "    for i in range(start_from, num + 1):\n",
    "        if num % i == 0:\n",
    "            # 因为我们从小找到大，下一次不用再从1找到大，而是从这个数字开始找就可以了，对么？\n",
    "            return [i] + factorize_iteration_improved(int(num / i), i)\n",
    "\n",
    "factorize_iteration_improved(200)"
   ]
  },
  {
   "cell_type": "code",
   "execution_count": 95,
   "metadata": {},
   "outputs": [
    {
     "name": "stdout",
     "output_type": "stream",
     "text": [
      "[3, 3, 11, 17, 2635387]\n",
      "factorize_iteration耗时0.194秒\n",
      "factorize_iteration_improved耗时 0.186秒\n"
     ]
    }
   ],
   "source": [
    "# 我们来看一下效率\n",
    "\n",
    "start = time.time()\n",
    "print(factorize_iteration(4435356321))\n",
    "end1 = time.time()\n",
    "factorize_iteration_improved(4435356321)\n",
    "end2 = time.time()\n",
    "\n",
    "print(\"factorize_iteration耗时%.3f秒\" % (end1 - start))\n",
    "print(\"factorize_iteration_improved耗时 %.3f秒\" % (end2 - end1))\n",
    "\n",
    "# 看看结果，优化的不多，甚至在一些情况更糟，对吗？"
   ]
  },
  {
   "cell_type": "code",
   "execution_count": 118,
   "metadata": {},
   "outputs": [
    {
     "name": "stdout",
     "output_type": "stream",
     "text": [
      "[2373037, 2738191]\n",
      "factorize_iteration耗时0.518秒\n",
      "factorize_iteration_improved耗时 0.308秒\n"
     ]
    }
   ],
   "source": [
    "# 这种优化为少量优化，即优化部分特殊情况，并尽量不计算重复的部分，我们来看一些生效的\n",
    "\n",
    "start = time.time()\n",
    "factorize_iteration(6497828556067)\n",
    "end1 = time.time()\n",
    "factorize_iteration_improved(6497828556067)\n",
    "end2 = time.time()\n",
    "\n",
    "\n",
    "print(factorize_iteration_improved(6497828556067))\n",
    "print(\"factorize_iteration耗时%.3f秒\" % (end1 - start))\n",
    "print(\"factorize_iteration_improved耗时 %.3f秒\" % (end2 - end1))\n",
    "\n",
    "# 为什么有效？\n"
   ]
  },
  {
   "cell_type": "code",
   "execution_count": 119,
   "metadata": {},
   "outputs": [
    {
     "data": {
      "text/plain": [
       "[2, 2, 2, 5, 5]"
      ]
     },
     "execution_count": 119,
     "metadata": {},
     "output_type": "execute_result"
    }
   ],
   "source": [
    "# 我们要主要，上述的优化有效，但仍然是一个数量级。\n",
    "\n",
    "# 这里我们试着进行“根本性”的优化\n",
    "\n",
    "# 想一个问题，我们真的需要从2一直跑到num + 1吗？\n",
    "\n",
    "import math\n",
    "\n",
    "\n",
    "def factorize_iteration_more_improved(num, start_from=2):\n",
    "    if num == 1:\n",
    "        return []\n",
    "    max_to_check = round(math.sqrt(num))  # 这才是我们最大需要判断的数，因为超过平方根的都是冗余\n",
    "    if max_to_check < start_from:\n",
    "        return [num]\n",
    "    for i in range(start_from, max_to_check + 1):\n",
    "        if num % i == 0:\n",
    "            return [i] + factorize_iteration_more_improved(int(num / i), i)\n",
    "    return [num]\n",
    "\n",
    "\n",
    "factorize_iteration_more_improved(200)"
   ]
  },
  {
   "cell_type": "code",
   "execution_count": 120,
   "metadata": {},
   "outputs": [
    {
     "name": "stdout",
     "output_type": "stream",
     "text": [
      "[3, 3, 11, 17, 2635387]\n",
      "factorize_iteration耗时0.202秒\n",
      "factorize_iteration_improved耗时 0.191秒\n",
      "factorize_iteration_more_improved耗时 0.00019秒\n"
     ]
    }
   ],
   "source": [
    "num_to_factorize = 4435356321\n",
    "start = time.time()\n",
    "factorize_iteration(num_to_factorize)\n",
    "end1 = time.time()\n",
    "factorize_iteration_improved(num_to_factorize)\n",
    "end2 = time.time()\n",
    "factorize_iteration_more_improved(num_to_factorize)\n",
    "end3 = time.time()\n",
    "\n",
    "\n",
    "print(factorize_iteration_more_improved(num_to_factorize))\n",
    "print(\"factorize_iteration耗时%.3f秒\" % (end1 - start))\n",
    "print(\"factorize_iteration_improved耗时 %.3f秒\" % (end2 - end1))\n",
    "print(\"factorize_iteration_more_improved耗时 %.5f秒\" % (end3 - end2))\n",
    "\n",
    "# 这个优化是不是很有效果？"
   ]
  },
  {
   "cell_type": "code",
   "execution_count": 121,
   "metadata": {},
   "outputs": [
    {
     "name": "stdout",
     "output_type": "stream",
     "text": [
      "[2373037, 2738191]\n",
      "factorize_iteration耗时0.482秒\n",
      "factorize_iteration_improved耗时 0.288秒\n",
      "factorize_iteration_more_improved耗时 0.27309秒\n"
     ]
    }
   ],
   "source": [
    "# 对于极其复杂的少量质数乘积来说，这个的优化并非很好\n",
    "\n",
    "num_to_factorize = 6497828556067\n",
    "start = time.time()\n",
    "factorize_iteration(num_to_factorize)\n",
    "end1 = time.time()\n",
    "factorize_iteration_improved(num_to_factorize)\n",
    "end2 = time.time()\n",
    "factorize_iteration_more_improved(num_to_factorize)\n",
    "end3 = time.time()\n",
    "\n",
    "\n",
    "print(factorize_iteration_more_improved(num_to_factorize))\n",
    "print(\"factorize_iteration耗时%.3f秒\" % (end1 - start))\n",
    "print(\"factorize_iteration_improved耗时 %.3f秒\" % (end2 - end1))\n",
    "print(\"factorize_iteration_more_improved耗时 %.5f秒\" % (end3 - end2))\n",
    "\n",
    "\n",
    "# 为什么这里优化不好？"
   ]
  },
  {
   "cell_type": "code",
   "execution_count": null,
   "metadata": {},
   "outputs": [],
   "source": [
    "# 课后问题，还有没有其他的优化思路？"
   ]
  }
 ],
 "metadata": {
  "kernelspec": {
   "display_name": "Python 3",
   "language": "python",
   "name": "python3"
  },
  "language_info": {
   "codemirror_mode": {
    "name": "ipython",
    "version": 3
   },
   "file_extension": ".py",
   "mimetype": "text/x-python",
   "name": "python",
   "nbconvert_exporter": "python",
   "pygments_lexer": "ipython3",
   "version": "3.7.4"
  }
 },
 "nbformat": 4,
 "nbformat_minor": 4
}
