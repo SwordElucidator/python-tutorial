{
 "cells": [
  {
   "cell_type": "code",
   "execution_count": null,
   "metadata": {
    "scrolled": true
   },
   "outputs": [],
   "source": [
    "# 简单的字符串的formation\n",
    "print(\"我今年%d岁\" % 12)  # %d在寻求一个数字\n",
    "\n",
    "doggy = \"狗\"\n",
    "chicken = \"公鸡\"\n",
    "print(\"%s咬%s，一嘴毛\" % (doggy, doggy))  # 每个%s在寻求一个字符串\n",
    "print(\"%s咬%s，真奇怪\" % (chicken, chicken))\n",
    "print(\"%s咬%s，救命啊\" % (doggy, chicken))"
   ]
  },
  {
   "cell_type": "code",
   "execution_count": null,
   "metadata": {},
   "outputs": [],
   "source": [
    "# 已知一个硬币有正反两面，扔一百万次，记录一下扔到正面的次数\n",
    "import random\n",
    "\n",
    "TIMES = 1000000  # 代码规范：尽量把常数写成大写字母变量，以便于修改\n",
    "\n",
    "positive = 0\n",
    "for _ in range(0, TIMES):  # 代码规范： _的意思是，在代码块中不需要调用这个量（每次投币与第几次投币无关）\n",
    "    if random.random() < 0.5:\n",
    "        positive += 1  # 这句话等同于 positive = positive + 1\n",
    "\n",
    "print(\"投掷%d次，其中%d次是正面。\" % (TIMES, positive))  # 每个%d表示它在寻求一个integer（数）的变量"
   ]
  },
  {
   "cell_type": "code",
   "execution_count": null,
   "metadata": {},
   "outputs": [],
   "source": [
    "# 函数\n",
    "\n",
    "def square(x):  # 定义 函数名 变量\n",
    "    return x * x  # 代码规范：运算符号间要打空格，  5 * 5，不要写5*5\n",
    "\n",
    "print(square(-2))"
   ]
  },
  {
   "cell_type": "code",
   "execution_count": null,
   "metadata": {},
   "outputs": [],
   "source": [
    "# 复杂的函数\n",
    "\n",
    "def gcd(x, y):  # 获取最大公约数\n",
    "    # 怎么定义？？？\n",
    "    if (x < y):\n",
    "        return gcd(y, x)  # 在函数里调用自己\n",
    "    if y == 0:\n",
    "        return x\n",
    "    return gcd(y, x % y)  # x % y是x除以y的余数\n",
    "\n",
    "\n",
    "print(gcd(5, 25))\n",
    "print(gcd(55, 25))\n",
    "print(gcd(928, 282))\n",
    "print(gcd(5959381824, 12026035121201))"
   ]
  },
  {
   "cell_type": "code",
   "execution_count": null,
   "metadata": {},
   "outputs": [],
   "source": [
    "# 封装函数思想\n",
    "import random \n",
    "\n",
    "\n",
    "# 所谓的封装函数，指的是两点：“让能做一件事的代码块（多行代码）不用被写第二次” 和 “每个事应该是件20行以内可以写完的小事”\n",
    "\n",
    "def throw_coins(times):\n",
    "    positive = 0\n",
    "    for _ in range(0, times):  # 代码规范： _的意思是，在代码块中不需要调用这个量（每次投币与第几次投币无关）\n",
    "        if random.random() < 0.5:  # 我们从random这个库里调用了叫做random的函数，所以是random.random，返回一个0~1的随机值\n",
    "            positive += 1  # 这句话等同于 positive = positive + 1\n",
    "    return positive\n",
    "\n",
    "print(throw_coins(10))\n",
    "print(throw_coins(100))\n",
    "print(throw_coins(1000000))"
   ]
  },
  {
   "cell_type": "code",
   "execution_count": null,
   "metadata": {},
   "outputs": [],
   "source": [
    "# 函数的再利用\n",
    "\n",
    "\n",
    "# 试着扔许多次看看\n",
    "def multiple_throws(test_size, throw_times):\n",
    "    actual_results = []\n",
    "    for _ in range(0, test_size):\n",
    "        actual_results.append(throw_coins(throw_times))\n",
    "    return actual_results\n",
    "\n",
    "print(multiple_throws(100, 1000))\n"
   ]
  },
  {
   "cell_type": "code",
   "execution_count": null,
   "metadata": {},
   "outputs": [],
   "source": [
    "# list构成\n",
    "\n",
    "lst1 = [1, 3, 6, 9, 4, 6]\n",
    "print(lst1)\n",
    "\n",
    "lst2 = [i + 2 for i in lst1]\n",
    "print(lst2)\n",
    "\n",
    "lst3 = [i for i in lst1 if i > 4]\n",
    "print(lst3)\n"
   ]
  },
  {
   "cell_type": "code",
   "execution_count": null,
   "metadata": {},
   "outputs": [],
   "source": [
    "# 期望分析(本课终极大boss)\n",
    "\n",
    "\n",
    "def expectation_analysis(test_size):\n",
    "    for throw_times in [10, 100, 10000]:\n",
    "        throw_results = multiple_throws(test_size, throw_times)\n",
    "        expectation = throw_times / 2\n",
    "        \n",
    "        exactly_expected_times = len([i for i in throw_results if i == expectation])\n",
    "        print(\"我们做%d次试验，每次投掷%d个硬币，我们期望每一次实验中平均%d个硬币朝上\" % (test_size, throw_times, expectation))\n",
    "        print(\"有%d次正好有%d个硬币朝上\" % (exactly_expected_times, expectation))\n",
    "        \n",
    "        percentage_expected_times = len([i for i in throw_results if expectation * 0.95 <= i <= expectation * 1.05])\n",
    "        print(\"有%d次实验与我们的期望偏差在5%%以内\" % percentage_expected_times)\n",
    "        # 上述句子为什么要写\"%%\" ?\n",
    "        \n",
    "        numerical_expected_times = len([i for i in throw_results if expectation - 5 <= i <= expectation + 5])\n",
    "        print(\"有%d次实验与我们的期望偏差在5次以内\" % numerical_expected_times)\n",
    "        \n",
    "        print(\"所有实验中，最大抛出了%d次正面，最小抛出了%d次正面\" % (max(throw_results), min(throw_results)))\n",
    "        \n",
    "        print(\"\")\n",
    "        \n",
    "        \n",
    "expectation_analysis(100)"
   ]
  },
  {
   "cell_type": "code",
   "execution_count": null,
   "metadata": {},
   "outputs": [],
   "source": []
  }
 ],
 "metadata": {
  "kernelspec": {
   "display_name": "Python 3",
   "language": "python",
   "name": "python3"
  },
  "language_info": {
   "codemirror_mode": {
    "name": "ipython",
    "version": 3
   },
   "file_extension": ".py",
   "mimetype": "text/x-python",
   "name": "python",
   "nbconvert_exporter": "python",
   "pygments_lexer": "ipython3",
   "version": "3.7.4"
  }
 },
 "nbformat": 4,
 "nbformat_minor": 4
}
