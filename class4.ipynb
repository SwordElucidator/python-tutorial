{
 "cells": [
  {
   "cell_type": "code",
   "execution_count": null,
   "metadata": {},
   "outputs": [],
   "source": [
    "# 引用 or 赋值 ？\n",
    "\n",
    "a = 5\n",
    "b = a\n",
    "b = 3\n",
    "print(a)"
   ]
  },
  {
   "cell_type": "code",
   "execution_count": null,
   "metadata": {},
   "outputs": [],
   "source": [
    "a = [5]\n",
    "b = a\n",
    "b.append(3)\n",
    "print(a)\n",
    "# 为什么？"
   ]
  },
  {
   "cell_type": "code",
   "execution_count": null,
   "metadata": {},
   "outputs": [],
   "source": [
    "# 不可变对象： int，float，long，str，tuple\n",
    "# 可变对象： list，set，dict，其他class\n",
    "\n",
    "# python没有“赋值”操作，只有引用操作。\n",
    "\n",
    "# 对于不可变对象，每次操作都创建一个新的对象\n",
    "# 而对于可变对象，每次操作只是在修改原对象\n",
    "\n",
    "a = 5\n",
    "print(id(a))\n",
    "b = a  # 凡是x = y，x都被赋予y的引用，即现在a和b都在引用内存中同一个“5”\n",
    "print(id(b))\n",
    "b = b + 2  # 即使是对b本身进行加法，因为b所引用的“5”是一个不可变对象，在操作后要为“b + 2”即\"7\"创建一个新量\n",
    "print(id(b))  # 我们可以看到，此时的b和刚刚的b已经不在一个内存位置了。"
   ]
  },
  {
   "cell_type": "code",
   "execution_count": null,
   "metadata": {},
   "outputs": [],
   "source": [
    "a = [5]\n",
    "print(id(a))\n",
    "b = a  # b引用a的内存位置\n",
    "print(id(b))  # 目前a和b都引用了同一个list\n",
    "b.append(3)  # 在b引用的list上添加5这个元素，因为b是一个可变对象，直接在这个引用的list上加上“5”\n",
    "print(id(b))  # 我们会发现，引用的内存位置没有发生变化。\n",
    "print(a)  # 这也是为何，当我们在查看a的时候，a的返回值也发生了变化。（因为他们都在引用同一个list）"
   ]
  },
  {
   "cell_type": "code",
   "execution_count": null,
   "metadata": {},
   "outputs": [],
   "source": [
    "a = [3, 4, 5]\n",
    "a[1] = a\n",
    "print(a)  # 发生了什么？？？\n",
    "\n",
    "# 来思考一下这几个点是在搞什么？"
   ]
  },
  {
   "cell_type": "code",
   "execution_count": null,
   "metadata": {},
   "outputs": [],
   "source": [
    "# 我们先离开刚刚那个话题\n",
    "a = [3, 4, 5]\n",
    "b = [3, 4, 5]\n",
    "a[1] = b\n",
    "print(a)  # 这次看着就蛮正常的\n",
    "print(id(b))\n",
    "print(id(a[1]))  # a[1]正常存储了b的引用"
   ]
  },
  {
   "cell_type": "code",
   "execution_count": null,
   "metadata": {},
   "outputs": [],
   "source": [
    "# 所以刚刚那个[...]是什么呢？我们来深刻地理解一下“引用”\n",
    "\n",
    "a = [3, 4, 5]\n",
    "a[1] = a\n",
    "print(id(a))\n",
    "print(id(a[1]))\n",
    "print(id(a[1][1]))\n",
    "print(id(a[1][1][1][1][1][1][1][1][1]))\n",
    "# 发现什么了么？当a的第1个元素被设成“a自身”的引用，这个a就变成了[3, a的引用, 5]。a的第一个元素是\"a的引用\"，所以去查看时，a[1]等同于a\n",
    "# 而此时a[1]作为引用a位置内存的变量，a[1]和a都指向同一个地方，即a[1]也是[3, a的引用, 5]，所以a[1]是无穷尽的。\n",
    "# print函数聪明地发现了这个现象，所以它把a[1]print成[...]。"
   ]
  },
  {
   "cell_type": "code",
   "execution_count": null,
   "metadata": {},
   "outputs": [],
   "source": [
    "a = [3, [1, 2], 5]\n",
    "b = a[1]\n",
    "b[1] = 0\n",
    "print(a)\n",
    "\n",
    "# 试着理解一下上面到底发生了什么"
   ]
  },
  {
   "cell_type": "code",
   "execution_count": null,
   "metadata": {},
   "outputs": [],
   "source": [
    "# 那么问题来了，我们如何copy一份list？\n",
    "a = [1, 3, 4, 5]\n",
    "b = a[:]  # 选取a的每一个元素，组成一个新的list\n",
    "print(a)\n",
    "print(b)\n",
    "print(id(a))\n",
    "print(id(b))\n",
    "\n",
    "# 此时我们可以发现，这两个list的元素完全一致，但他们的内存位置（即引用）完全不同了。"
   ]
  },
  {
   "cell_type": "code",
   "execution_count": null,
   "metadata": {},
   "outputs": [],
   "source": [
    "a = [3, [1, 2], 5]\n",
    "b = a[:]\n",
    "a[0] = 8\n",
    "a[1][1] = 9\n",
    "print(a)\n",
    "print(b)\n",
    "\n",
    "# 发生了什么？\n",
    "# a[:]只是遍历了一遍每个元素，组成新的list，但程序看到[1, 2]的时候，他看到的只是这个“引用”，即这个“引用”被放置到了b[1]位置。"
   ]
  },
  {
   "cell_type": "code",
   "execution_count": null,
   "metadata": {},
   "outputs": [],
   "source": [
    "# 深度复制\n",
    "def deep_copy_list(lst):\n",
    "    items = []\n",
    "    for item in lst:\n",
    "        if type(item) == list and id(item) != id(lst):  # 这里确认一下不是死循环，否则会永远地run下去\n",
    "            items.append(deep_copy_list(item))  # 如果元素是个list的引用，那么再次拆解\n",
    "        else:\n",
    "            items.append(item)  # 否则直接append这个量\n",
    "    return items\n",
    "            \n",
    "a = [3, [1, [-1, -2]], 5]\n",
    "b = deep_copy_list(a)\n",
    "print(b)\n",
    "a[1][1][1] = 9\n",
    "print()  # 空一行\n",
    "print(a)\n",
    "print(b)  # 这次变动a[1][1][1]，b就不会产生任何变化了"
   ]
  },
  {
   "cell_type": "code",
   "execution_count": null,
   "metadata": {},
   "outputs": [],
   "source": [
    "# 系统自带的深度复制，它要比上述函数更为强大，可以处理list以外的其他各类引用。\n",
    "import copy\n",
    "\n",
    "a = [3, [1, [-1, -2]], 5]\n",
    "print(copy.deepcopy(a))"
   ]
  },
  {
   "cell_type": "code",
   "execution_count": null,
   "metadata": {},
   "outputs": [],
   "source": [
    "# 函数中的应用\n",
    "\n",
    "def add_one(a):\n",
    "    a += 1\n",
    "    \n",
    "x = 5\n",
    "add_one(x)\n",
    "print(x)\n",
    "\n",
    "# 为什么没变？函数在干什么？\n",
    "# 当x作为变量被传入时，a引用了x的引用，即5。\n",
    "# 但a += 1的运算中，因为a（引用x）的int是不可变量，所以a += 1的运算结果生成了一个新量，而这个量的引用已经不再是x的引用（x的引用未变化）\n",
    "\n",
    "\n",
    "def add_one_0(a):\n",
    "    a[0] += 1\n",
    "    \n",
    "x = [5]\n",
    "add_one_0(x)\n",
    "print(x)\n",
    "\n",
    "# 在这里，x作为变量被传入时，a引用了x的引用，即[5]\n",
    "# a[0] += 1即a[0] = a[0] + 1 = 6，此时a引用是可变的，它直接修改了a引用中的第0项变为6。由于a引用仍为x的引用，因而x也发生了变化。"
   ]
  },
  {
   "cell_type": "code",
   "execution_count": null,
   "metadata": {},
   "outputs": [],
   "source": [
    "# 正确的add_one?\n",
    "def add_one(a):\n",
    "    return a + 1\n",
    "\n",
    "x = 5\n",
    "x = add_one(x)  # 很简单啦，把这个变量return出来，再覆盖x原本的值就好啦\n",
    "print(x)"
   ]
  }
 ],
 "metadata": {
  "kernelspec": {
   "display_name": "Python 3",
   "language": "python",
   "name": "python3"
  },
  "language_info": {
   "codemirror_mode": {
    "name": "ipython",
    "version": 3
   },
   "file_extension": ".py",
   "mimetype": "text/x-python",
   "name": "python",
   "nbconvert_exporter": "python",
   "pygments_lexer": "ipython3",
   "version": "3.7.4"
  }
 },
 "nbformat": 4,
 "nbformat_minor": 4
}
