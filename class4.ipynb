{
 "cells": [
  {
   "cell_type": "code",
   "execution_count": 1,
   "metadata": {},
   "outputs": [
    {
     "name": "stdout",
     "output_type": "stream",
     "text": [
      "5\n"
     ]
    }
   ],
   "source": [
    "# 引用 or 赋值 ？\n",
    "\n",
    "a = 5\n",
    "b = a\n",
    "b = 3\n",
    "print(a)"
   ]
  },
  {
   "cell_type": "code",
   "execution_count": 5,
   "metadata": {},
   "outputs": [
    {
     "name": "stdout",
     "output_type": "stream",
     "text": [
      "[5, 3]\n"
     ]
    }
   ],
   "source": [
    "a = [5]\n",
    "b = a\n",
    "b.append(3)\n",
    "print(a)\n",
    "# 为什么？"
   ]
  },
  {
   "cell_type": "code",
   "execution_count": 8,
   "metadata": {},
   "outputs": [
    {
     "name": "stdout",
     "output_type": "stream",
     "text": [
      "4339239856\n",
      "4339239856\n",
      "4339239920\n"
     ]
    }
   ],
   "source": [
    "# 不可变对象： int，float，long，str，tuple\n",
    "# 可变对象： list，set，dict，其他class\n",
    "\n",
    "# python没有“赋值”操作，只有引用操作。\n",
    "\n",
    "# 对于不可变对象，每次操作都创建一个新的对象\n",
    "# 而对于可变对象，每次操作只是在修改原对象\n",
    "\n",
    "a = 5\n",
    "print(id(a))\n",
    "b = a  # 凡是x = y，x都被赋予y的引用，即现在a和b都在引用内存中同一个“5”\n",
    "print(id(b))\n",
    "b = b + 2  # 即使是对b本身进行加法，因为b所引用的“5”是一个不可变对象，在操作后要为“b + 2”即\"7\"创建一个新量\n",
    "print(id(b))  # 我们可以看到，此时的b和刚刚的b已经不在一个内存位置了。"
   ]
  },
  {
   "cell_type": "code",
   "execution_count": 10,
   "metadata": {},
   "outputs": [
    {
     "name": "stdout",
     "output_type": "stream",
     "text": [
      "4377380656\n",
      "4377380656\n",
      "4377380656\n",
      "[5, 3]\n"
     ]
    }
   ],
   "source": [
    "a = [5]\n",
    "print(id(a))\n",
    "b = a  # b引用a的内存位置\n",
    "print(id(b))  # 目前a和b都引用了同一个list\n",
    "b.append(3)  # 在b引用的list上添加5这个元素，因为b是一个可变对象，直接在这个引用的list上加上“5”\n",
    "print(id(b))  # 我们会发现，引用的内存位置没有发生变化。\n",
    "print(a)  # 这也是为何，当我们在查看a的时候，a的返回值也发生了变化。（因为他们都在引用同一个list）"
   ]
  },
  {
   "cell_type": "code",
   "execution_count": null,
   "metadata": {},
   "outputs": [],
   "source": [
    "a = []"
   ]
  }
 ],
 "metadata": {
  "kernelspec": {
   "display_name": "Python 3",
   "language": "python",
   "name": "python3"
  },
  "language_info": {
   "codemirror_mode": {
    "name": "ipython",
    "version": 3
   },
   "file_extension": ".py",
   "mimetype": "text/x-python",
   "name": "python",
   "nbconvert_exporter": "python",
   "pygments_lexer": "ipython3",
   "version": "3.7.4"
  }
 },
 "nbformat": 4,
 "nbformat_minor": 4
}
