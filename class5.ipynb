{
 "cells": [
  {
   "cell_type": "code",
   "execution_count": null,
   "metadata": {},
   "outputs": [],
   "source": [
    "# 封装class\n",
    "\n",
    "class BankAccount:\n",
    "    def __init__(self, name): # 初始化函数，新的实例被声明时，需要调用这个函数\n",
    "        # 所有的class内的函数被称为method，每个method都以self为第一个argument，即“自身”\n",
    "        self.name = name  # 这句话的意思是，在初始化时，将该BankAccount实例的name设定为传入的name\n",
    "        \n",
    "        \n",
    "account1 = BankAccount(\"Alice\")\n",
    "account2 = BankAccount(\"Bob\")\n",
    "print(account1.name)\n",
    "print(account2.name)\n",
    "print(account1 == account2)  # account1和account2是不同的"
   ]
  },
  {
   "cell_type": "code",
   "execution_count": null,
   "metadata": {},
   "outputs": [],
   "source": [
    "# 其他方法\n",
    "\n",
    "class BankAccount:\n",
    "    def __init__(self, name):\n",
    "        self.name = name\n",
    "        self.balance = 0  # 初始化钱数\n",
    "        \n",
    "    def deposit(self, amount):  # 存款\n",
    "        self.balance += amount\n",
    "    \n",
    "    def withdraw(self, amount):  # 取款\n",
    "        self.balance -= amount\n",
    "\n",
    "\n",
    "account = BankAccount(\"Alice\")\n",
    "print(account.balance)\n",
    "account.deposit(5)\n",
    "print(account.balance)\n",
    "account.withdraw(3)\n",
    "print(account.balance)\n",
    "\n",
    "# 看看下面会发生什么问题？\n",
    "account.withdraw(10)\n",
    "print(account.balance)"
   ]
  },
  {
   "cell_type": "code",
   "execution_count": null,
   "metadata": {
    "scrolled": true
   },
   "outputs": [],
   "source": [
    "# 加固\n",
    "class BankAccount:\n",
    "    def __init__(self, name):\n",
    "        self.name = name\n",
    "        self.balance = 0  # 初始化钱数\n",
    "\n",
    "    def deposit(self, amount):  # 存款\n",
    "        self.balance += amount\n",
    "        return self.balance  # 直接输出\n",
    "\n",
    "    def withdraw(self, amount):  # 取款\n",
    "        assert self.balance >= amount, \"Insufficient Fund\"  # 判断是否剩余钱>=要取的数量\n",
    "        self.balance -= amount\n",
    "        return self.balance\n",
    "\n",
    "account = BankAccount(\"Alice\")\n",
    "print(account)  # print出来的东西看起来怪怪的？\n",
    "print(account.balance)\n",
    "print(account.deposit(5))\n",
    "print(account.withdraw(2))\n",
    "print(account.withdraw(10))  # 推出Error"
   ]
  },
  {
   "cell_type": "code",
   "execution_count": null,
   "metadata": {},
   "outputs": [],
   "source": [
    "# 字典\n",
    "\n",
    "# 字典是一个key, value pair的集合，每个key之间是独立且唯一的，类似于一个函数的映射\n",
    "# 它的key可以是任何hashable量，即上节课所说的“不可变对象”\n",
    "\n",
    "dic = {\"mm\": 3, \"ss\": 12, \"kk\": [2, 3, 4, \"ss\"], 3: \"www\"}\n",
    "print(dic)\n",
    "print(dic[\"kk\"])\n",
    "print(dic[3])\n",
    "\n",
    "\n",
    "print({(3, 2): 5})  # 不会报错，因为tuple可以hashable\n",
    "print({[3, 2]: 5})  # 会报错，因为list is not hashable"
   ]
  },
  {
   "cell_type": "code",
   "execution_count": null,
   "metadata": {},
   "outputs": [],
   "source": [
    "# 任意变量构建函数\n",
    "\n",
    "def sum(*args):  # *表示接下来可以有任意个argument，这些argument组成一个list\n",
    "    rtn = 0\n",
    "    for val in args:\n",
    "        rtn += val\n",
    "    return rtn\n",
    "\n",
    "print(sum(1, 5))\n",
    "print(sum(1, 5, 7, 12))  # 看，变量的数变成不确定的了，几个都可以\n",
    "\n",
    "\n",
    "def anounce(**kwargs):  # kwargs将变量中的每个量以字典的(key, value)方式传入\n",
    "    for key in kwargs:\n",
    "        print(\"The name of the %s is %s!\" % (key, kwargs[key]))\n",
    "        \n",
    "anounce(person=\"Jack\", dog=\"Doggy\", cat=\"Catty\")  # 此时kwargs相当于 {\"person\": \"Jack\", \"dog\": \"Doggy\", \"cat\": \"Catty\"}\n"
   ]
  },
  {
   "cell_type": "code",
   "execution_count": null,
   "metadata": {},
   "outputs": [],
   "source": [
    "# 复杂构建\n",
    "\n",
    "class Character:\n",
    "    \n",
    "    hp = 20  # 默认hp\n",
    "    attack = 5  # 默认攻击力\n",
    "    defense = 4  # 默认防御力\n",
    "    subtype = \"士兵\"\n",
    "    name = \"无名\"\n",
    "    \n",
    "    def __init__(self, **kwargs):  # **kwargs表示接受一个字典\n",
    "        for key in kwargs:\n",
    "            setattr(self, key, kwargs[key])  # 根据接收到的信息来覆盖默认量\n",
    "            \n",
    "    def punch(self, character):  # 锤另一个人\n",
    "        damage = self.attack - character.defense\n",
    "        if damage  <= 0:  # 攻击小于对方防御，不要打了\n",
    "            return\n",
    "        character.hp -= damage\n",
    "\n",
    "    def __str__(self):\n",
    "        # 这个函数表示“字符串化实例”，即用print方式时，展示出的这个东西是什么\n",
    "        return \"角色【%s】\\n类型【%s】\\nHP = %d\\n攻击力 = %d\\n防御力 = %d\" % (self.name, self.subtype, self.hp, self.attack, self.defense)\n",
    "\n",
    "little_guy = Character(name=\"Jack\", subtype=\"平民\", hp=10, attack=3, defense=2)  # 定义一个角色的血量, 攻击力和防御力，会覆盖默认的量\n",
    "big_guy = Character()  # 什么也不传，意味着直接调用默认量\n",
    "\n",
    "print(little_guy)\n",
    "print()\n",
    "print(big_guy)\n",
    "print()\n",
    "\n",
    "print(\"%s打了%s，%s的体力是：\" % (little_guy.name, big_guy.name, big_guy.name))\n",
    "little_guy.punch(big_guy)\n",
    "print(big_guy.hp)  # big guy没有失去体力！\n",
    "print(\"%s打了%s，%s的体力是：\" % (big_guy.name, little_guy.name, little_guy.name))\n",
    "big_guy.punch(little_guy)\n",
    "print(little_guy.hp)  # little guy失去了体力！"
   ]
  },
  {
   "cell_type": "code",
   "execution_count": null,
   "metadata": {},
   "outputs": [],
   "source": [
    "# 课后作业：让上面的Character加固！定义一个is_dead mothod来判断角色是否死亡。如果死亡了，就不要再攻击了；血量最低为0，为0则为死亡。"
   ]
  }
 ],
 "metadata": {
  "kernelspec": {
   "display_name": "Python 3",
   "language": "python",
   "name": "python3"
  },
  "language_info": {
   "codemirror_mode": {
    "name": "ipython",
    "version": 3
   },
   "file_extension": ".py",
   "mimetype": "text/x-python",
   "name": "python",
   "nbconvert_exporter": "python",
   "pygments_lexer": "ipython3",
   "version": "3.7.4"
  }
 },
 "nbformat": 4,
 "nbformat_minor": 4
}
